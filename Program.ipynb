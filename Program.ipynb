{
 "cells": [
  {
   "cell_type": "markdown",
   "id": "referenced-palestinian",
   "metadata": {},
   "source": [
    "# Assignment 6: Testing Covid\n",
    "\n",
    "### Objective  \n",
    "To get understanding and hands-on practice in formulating and testing hypotheses by\n",
    "means of statistical instruments.\n",
    "To get skills in solving Data Science tasks in multifeatured environment:\n",
    "- working with real data set,\n",
    "- pre-processing it in MS Excel,\n",
    "- analyzing it in a programming language, like Python, and\n",
    "- sharing the results in Peergrade  \n",
    "\n",
    "### Tasks\n",
    "Test the following null hypothesis: Covid infection spreads randomly and similarly in big\n",
    "Danish cities such as Copenhagen and Aarhus.\n",
    "Recommendations:\n",
    "1. Download the file municipality_cases.xslx from our Github repo.\n",
    "2. Copy the columns Copenhagen and Aarhus or any other two or more columns in\n",
    "another tab.\n",
    "3. Create diagrams to compare the values visually.\n",
    "4. Process the data in both Excel and Python or another programming language.\n",
    "a. Compute t-value for both data sets.\n",
    "b. Select p-value and degrees of freedom for the test.\n",
    "c. Make t-test using the t-table.\n",
    "5. Share the result with us on Peergrade.\n",
    "For t-test, use thee instructions below."
   ]
  },
  {
   "cell_type": "code",
   "execution_count": 1,
   "id": "stretch-egyptian",
   "metadata": {},
   "outputs": [],
   "source": [
    "import pandas as pd"
   ]
  },
  {
   "cell_type": "code",
   "execution_count": 2,
   "id": "catholic-meditation",
   "metadata": {},
   "outputs": [],
   "source": [
    "data = pd.read_csv('./data/Municipality_cases_time_series.csv', index_col=None, na_values=['NA'], sep=\";\")"
   ]
  },
  {
   "cell_type": "markdown",
   "id": "above-rugby",
   "metadata": {},
   "source": [
    "### Task 1"
   ]
  },
  {
   "cell_type": "code",
   "execution_count": 3,
   "id": "constant-support",
   "metadata": {},
   "outputs": [
    {
     "data": {
      "text/html": [
       "<div>\n",
       "<style scoped>\n",
       "    .dataframe tbody tr th:only-of-type {\n",
       "        vertical-align: middle;\n",
       "    }\n",
       "\n",
       "    .dataframe tbody tr th {\n",
       "        vertical-align: top;\n",
       "    }\n",
       "\n",
       "    .dataframe thead th {\n",
       "        text-align: right;\n",
       "    }\n",
       "</style>\n",
       "<table border=\"1\" class=\"dataframe\">\n",
       "  <thead>\n",
       "    <tr style=\"text-align: right;\">\n",
       "      <th></th>\n",
       "      <th>SampleDate</th>\n",
       "      <th>Roskilde</th>\n",
       "      <th>Copenhagen</th>\n",
       "      <th>Aarhus</th>\n",
       "      <th>Frederiksberg</th>\n",
       "      <th>Kalundborg</th>\n",
       "      <th>Middelfart</th>\n",
       "      <th>Gentofte</th>\n",
       "      <th>Solrød</th>\n",
       "      <th>Allerød</th>\n",
       "      <th>...</th>\n",
       "      <th>Ringsted</th>\n",
       "      <th>Struer</th>\n",
       "      <th>Brønderslev</th>\n",
       "      <th>Hedensted</th>\n",
       "      <th>Varde</th>\n",
       "      <th>Læsø</th>\n",
       "      <th>Ærø</th>\n",
       "      <th>Fanø</th>\n",
       "      <th>Samsø</th>\n",
       "      <th>NA</th>\n",
       "    </tr>\n",
       "  </thead>\n",
       "  <tbody>\n",
       "    <tr>\n",
       "      <th>0</th>\n",
       "      <td>2020-02-26</td>\n",
       "      <td>1</td>\n",
       "      <td>0</td>\n",
       "      <td>0</td>\n",
       "      <td>0</td>\n",
       "      <td>0</td>\n",
       "      <td>0</td>\n",
       "      <td>0</td>\n",
       "      <td>0</td>\n",
       "      <td>0</td>\n",
       "      <td>...</td>\n",
       "      <td>0</td>\n",
       "      <td>0</td>\n",
       "      <td>0</td>\n",
       "      <td>0</td>\n",
       "      <td>0</td>\n",
       "      <td>0</td>\n",
       "      <td>0</td>\n",
       "      <td>0</td>\n",
       "      <td>0</td>\n",
       "      <td>0</td>\n",
       "    </tr>\n",
       "    <tr>\n",
       "      <th>1</th>\n",
       "      <td>2020-02-27</td>\n",
       "      <td>0</td>\n",
       "      <td>1</td>\n",
       "      <td>0</td>\n",
       "      <td>0</td>\n",
       "      <td>0</td>\n",
       "      <td>0</td>\n",
       "      <td>0</td>\n",
       "      <td>0</td>\n",
       "      <td>0</td>\n",
       "      <td>...</td>\n",
       "      <td>0</td>\n",
       "      <td>0</td>\n",
       "      <td>0</td>\n",
       "      <td>0</td>\n",
       "      <td>0</td>\n",
       "      <td>0</td>\n",
       "      <td>0</td>\n",
       "      <td>0</td>\n",
       "      <td>0</td>\n",
       "      <td>0</td>\n",
       "    </tr>\n",
       "    <tr>\n",
       "      <th>2</th>\n",
       "      <td>2020-02-28</td>\n",
       "      <td>0</td>\n",
       "      <td>0</td>\n",
       "      <td>1</td>\n",
       "      <td>0</td>\n",
       "      <td>0</td>\n",
       "      <td>0</td>\n",
       "      <td>0</td>\n",
       "      <td>0</td>\n",
       "      <td>0</td>\n",
       "      <td>...</td>\n",
       "      <td>0</td>\n",
       "      <td>0</td>\n",
       "      <td>0</td>\n",
       "      <td>0</td>\n",
       "      <td>0</td>\n",
       "      <td>0</td>\n",
       "      <td>0</td>\n",
       "      <td>0</td>\n",
       "      <td>0</td>\n",
       "      <td>0</td>\n",
       "    </tr>\n",
       "    <tr>\n",
       "      <th>3</th>\n",
       "      <td>2020-03-01</td>\n",
       "      <td>0</td>\n",
       "      <td>1</td>\n",
       "      <td>0</td>\n",
       "      <td>0</td>\n",
       "      <td>0</td>\n",
       "      <td>0</td>\n",
       "      <td>0</td>\n",
       "      <td>0</td>\n",
       "      <td>0</td>\n",
       "      <td>...</td>\n",
       "      <td>0</td>\n",
       "      <td>0</td>\n",
       "      <td>0</td>\n",
       "      <td>0</td>\n",
       "      <td>0</td>\n",
       "      <td>0</td>\n",
       "      <td>0</td>\n",
       "      <td>0</td>\n",
       "      <td>0</td>\n",
       "      <td>0</td>\n",
       "    </tr>\n",
       "    <tr>\n",
       "      <th>4</th>\n",
       "      <td>2020-03-02</td>\n",
       "      <td>0</td>\n",
       "      <td>1</td>\n",
       "      <td>0</td>\n",
       "      <td>1</td>\n",
       "      <td>1</td>\n",
       "      <td>1</td>\n",
       "      <td>0</td>\n",
       "      <td>0</td>\n",
       "      <td>0</td>\n",
       "      <td>...</td>\n",
       "      <td>0</td>\n",
       "      <td>0</td>\n",
       "      <td>0</td>\n",
       "      <td>0</td>\n",
       "      <td>0</td>\n",
       "      <td>0</td>\n",
       "      <td>0</td>\n",
       "      <td>0</td>\n",
       "      <td>0</td>\n",
       "      <td>0</td>\n",
       "    </tr>\n",
       "  </tbody>\n",
       "</table>\n",
       "<p>5 rows × 100 columns</p>\n",
       "</div>"
      ],
      "text/plain": [
       "   SampleDate  Roskilde  Copenhagen  Aarhus  Frederiksberg  Kalundborg  \\\n",
       "0  2020-02-26         1           0       0              0           0   \n",
       "1  2020-02-27         0           1       0              0           0   \n",
       "2  2020-02-28         0           0       1              0           0   \n",
       "3  2020-03-01         0           1       0              0           0   \n",
       "4  2020-03-02         0           1       0              1           1   \n",
       "\n",
       "   Middelfart  Gentofte  Solrød  Allerød  ...  Ringsted  Struer  Brønderslev  \\\n",
       "0           0         0       0        0  ...         0       0            0   \n",
       "1           0         0       0        0  ...         0       0            0   \n",
       "2           0         0       0        0  ...         0       0            0   \n",
       "3           0         0       0        0  ...         0       0            0   \n",
       "4           1         0       0        0  ...         0       0            0   \n",
       "\n",
       "   Hedensted  Varde  Læsø  Ærø  Fanø  Samsø  NA  \n",
       "0          0      0     0    0     0      0   0  \n",
       "1          0      0     0    0     0      0   0  \n",
       "2          0      0     0    0     0      0   0  \n",
       "3          0      0     0    0     0      0   0  \n",
       "4          0      0     0    0     0      0   0  \n",
       "\n",
       "[5 rows x 100 columns]"
      ]
     },
     "execution_count": 3,
     "metadata": {},
     "output_type": "execute_result"
    }
   ],
   "source": [
    "data.head()"
   ]
  },
  {
   "cell_type": "markdown",
   "id": "promising-video",
   "metadata": {},
   "source": [
    "### Task 2"
   ]
  },
  {
   "cell_type": "code",
   "execution_count": 4,
   "id": "fancy-ghana",
   "metadata": {},
   "outputs": [
    {
     "data": {
      "text/html": [
       "<div>\n",
       "<style scoped>\n",
       "    .dataframe tbody tr th:only-of-type {\n",
       "        vertical-align: middle;\n",
       "    }\n",
       "\n",
       "    .dataframe tbody tr th {\n",
       "        vertical-align: top;\n",
       "    }\n",
       "\n",
       "    .dataframe thead th {\n",
       "        text-align: right;\n",
       "    }\n",
       "</style>\n",
       "<table border=\"1\" class=\"dataframe\">\n",
       "  <thead>\n",
       "    <tr style=\"text-align: right;\">\n",
       "      <th></th>\n",
       "      <th>Roskilde</th>\n",
       "      <th>Kalundborg</th>\n",
       "    </tr>\n",
       "  </thead>\n",
       "  <tbody>\n",
       "    <tr>\n",
       "      <th>0</th>\n",
       "      <td>1</td>\n",
       "      <td>0</td>\n",
       "    </tr>\n",
       "    <tr>\n",
       "      <th>1</th>\n",
       "      <td>0</td>\n",
       "      <td>0</td>\n",
       "    </tr>\n",
       "    <tr>\n",
       "      <th>2</th>\n",
       "      <td>0</td>\n",
       "      <td>0</td>\n",
       "    </tr>\n",
       "    <tr>\n",
       "      <th>3</th>\n",
       "      <td>0</td>\n",
       "      <td>0</td>\n",
       "    </tr>\n",
       "    <tr>\n",
       "      <th>4</th>\n",
       "      <td>0</td>\n",
       "      <td>1</td>\n",
       "    </tr>\n",
       "  </tbody>\n",
       "</table>\n",
       "</div>"
      ],
      "text/plain": [
       "   Roskilde  Kalundborg\n",
       "0         1           0\n",
       "1         0           0\n",
       "2         0           0\n",
       "3         0           0\n",
       "4         0           1"
      ]
     },
     "execution_count": 4,
     "metadata": {},
     "output_type": "execute_result"
    }
   ],
   "source": [
    "data_reduce = data[[\"Roskilde\", \"Kalundborg\"]]\n",
    "data_reduce.head()"
   ]
  },
  {
   "cell_type": "markdown",
   "id": "supported-utilization",
   "metadata": {},
   "source": [
    "### Task 3"
   ]
  },
  {
   "cell_type": "code",
   "execution_count": 5,
   "id": "extraordinary-belief",
   "metadata": {},
   "outputs": [
    {
     "data": {
      "text/plain": [
       "<AxesSubplot:ylabel='Density'>"
      ]
     },
     "execution_count": 5,
     "metadata": {},
     "output_type": "execute_result"
    },
    {
     "data": {
      "image/png": "[encoded data removed]",
      "text/plain": [
       "<Figure size 432x288 with 1 Axes>"
      ]
     },
     "metadata": {
      "needs_background": "light"
     },
     "output_type": "display_data"
    }
   ],
   "source": [
    "data_reduce.Roskilde.plot.hist(density=True)\n",
    "data_reduce.Kalundborg.plot.hist(density=True)\n",
    "data_reduce.Roskilde.plot.density()\n",
    "data_reduce.Kalundborg.plot.density()"
   ]
  },
  {
   "cell_type": "code",
   "execution_count": 6,
   "id": "bronze-words",
   "metadata": {},
   "outputs": [
    {
     "data": {
      "text/plain": [
       "Roskilde      3459\n",
       "Kalundborg    1421\n",
       "dtype: int64"
      ]
     },
     "execution_count": 6,
     "metadata": {},
     "output_type": "execute_result"
    }
   ],
   "source": [
    "data_reduce.sum()"
   ]
  },
  {
   "cell_type": "code",
   "execution_count": 7,
   "id": "equivalent-julian",
   "metadata": {},
   "outputs": [
    {
     "data": {
      "text/plain": [
       "<AxesSubplot:>"
      ]
     },
     "execution_count": 7,
     "metadata": {},
     "output_type": "execute_result"
    },
    {
     "data": {
      "image/png": "[encoded data removed]",
      "text/plain": [
       "<Figure size 432x288 with 1 Axes>"
      ]
     },
     "metadata": {
      "needs_background": "light"
     },
     "output_type": "display_data"
    }
   ],
   "source": [
    "data_reduce.sum(axis=0)\n",
    "data_reduce.sum(axis=0).plot.bar()"
   ]
  },
  {
   "cell_type": "markdown",
   "id": "strategic-rachel",
   "metadata": {},
   "source": [
    "There are **51.262** citizens in Roskilde and **16.295** citizens in Kalundborg.  \n",
    "\n",
    "Roskilde has an infection rate of **6.75%** of the citizens in the municipality  \n",
    "Kalundborg has an infection rate of **8.72%** of the citizens in the municipality  \n",
    "\n",
    "Kalundborg has a marginally larger infection percentage, which is odd considering Roskilde is a way larger municipality with a more dense population  \n",
    "\n",
    "### Task 4"
   ]
  },
  {
   "cell_type": "code",
   "execution_count": 145,
   "id": "interpreted-webster",
   "metadata": {},
   "outputs": [],
   "source": [
    "from scipy import stats\n",
    "import numpy as np\n",
    "\n",
    "# Our test data\n",
    "a = data[\"Kalundborg\"]\n",
    "b = data[\"Roskilde\"]\n",
    "\n",
    "# Sample size / length of data\n",
    "N = 368"
   ]
  },
  {
   "cell_type": "code",
   "execution_count": 152,
   "id": "essential-fitness",
   "metadata": {},
   "outputs": [
    {
     "name": "stdout",
     "output_type": "stream",
     "text": [
      "0      0\n",
      "1      0\n",
      "2      0\n",
      "3      0\n",
      "4      1\n",
      "      ..\n",
      "363    0\n",
      "364    2\n",
      "365    2\n",
      "366    2\n",
      "367    1\n",
      "Name: Kalundborg, Length: 368, dtype: int64 0       1\n",
      "1       0\n",
      "2       0\n",
      "3       0\n",
      "4       0\n",
      "       ..\n",
      "363    10\n",
      "364     8\n",
      "365     8\n",
      "366    10\n",
      "367     3\n",
      "Name: Roskilde, Length: 368, dtype: int64\n"
     ]
    }
   ],
   "source": [
    "var_a = a.var()\n",
    "var_b = b.var()\n",
    "\n",
    "print(a,b)"
   ]
  },
  {
   "cell_type": "code",
   "execution_count": 164,
   "id": "dental-separation",
   "metadata": {},
   "outputs": [
    {
     "name": "stdout",
     "output_type": "stream",
     "text": [
      "Standard Deviation: 10.756546194959958\n"
     ]
    }
   ],
   "source": [
    "# Standard Deviation\n",
    "s = np.sqrt((var_a + var_b)/2)\n",
    "\n",
    "print(\"Standard Deviation: \" + str(s))"
   ]
  },
  {
   "cell_type": "code",
   "execution_count": 165,
   "id": "common-conducting",
   "metadata": {},
   "outputs": [
    {
     "name": "stdout",
     "output_type": "stream",
     "text": [
      "T-statistic: -6.983810165396658\n"
     ]
    }
   ],
   "source": [
    "# T-statistics\n",
    "t = (a.mean() - b.mean())/(s*np.sqrt(2/N))\n",
    "print(\"T-statistic: \" + str(t))"
   ]
  },
  {
   "cell_type": "code",
   "execution_count": 166,
   "id": "technical-welsh",
   "metadata": {},
   "outputs": [
    {
     "name": "stdout",
     "output_type": "stream",
     "text": [
      "Degree of freedom: 734\n"
     ]
    }
   ],
   "source": [
    "# Compare with the critical t-value\n",
    "# Degrees of freedom\n",
    "df = 2*N - 2\n",
    "print(\"Degree of freedom: \" + str(df))"
   ]
  },
  {
   "cell_type": "code",
   "execution_count": 167,
   "id": "acceptable-netherlands",
   "metadata": {},
   "outputs": [
    {
     "name": "stdout",
     "output_type": "stream",
     "text": [
      "t-value = -6.983810165396658\n",
      "p-value = 6.4443777481552915e-12\n"
     ]
    }
   ],
   "source": [
    "# p-value after comparison with the t\n",
    "p = stats.t.cdf(t,df=df)\n",
    "\n",
    "print(\"t-value = \" + str(t))\n",
    "print(\"p-value = \" + str(2*p))"
   ]
  },
  {
   "cell_type": "code",
   "execution_count": 169,
   "id": "frequent-sheet",
   "metadata": {},
   "outputs": [
    {
     "name": "stdout",
     "output_type": "stream",
     "text": [
      "t-value = -6.983810165396658\n",
      "p-Value = 6.4443777481552915e-12\n"
     ]
    }
   ],
   "source": [
    "# Comparing with scipy ttest function to cross reference that we calculated it corectly\n",
    "t2, p2 = stats.ttest_ind(a,b)\n",
    "print(\"t-value = \" + str(t2))\n",
    "print(\"p-Value = \" + str(p2))"
   ]
  }
 ],
 "metadata": {
  "kernelspec": {
   "display_name": "Python 3",
   "language": "python",
   "name": "python3"
  },
  "language_info": {
   "codemirror_mode": {
    "name": "ipython",
    "version": 3
   },
   "file_extension": ".py",
   "mimetype": "text/x-python",
   "name": "python",
   "nbconvert_exporter": "python",
   "pygments_lexer": "ipython3",
   "version": "3.8.6"
  }
 },
 "nbformat": 4,
 "nbformat_minor": 5
}
